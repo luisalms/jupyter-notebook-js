{
 "cells": [
  {
   "cell_type": "markdown",
   "id": "ea8d50cc",
   "metadata": {},
   "source": [
    "   #  <font size='6'>JavaScript -- Fundamentos da Linguagem</font>"
   ]
  },
  {
   "cell_type": "code",
   "execution_count": null,
   "id": "f7901704",
   "metadata": {},
   "outputs": [],
   "source": [
    "// Para conectar arquivo JS ao HTML\n",
    "<script src=\"arquivo.js\"></script>"
   ]
  },
  {
   "cell_type": "markdown",
   "id": "629ddc1e",
   "metadata": {},
   "source": [
    "##  <font color=green>Algumas regras iniciais de sintaxe:</font>"
   ]
  },
  {
   "cell_type": "markdown",
   "id": "2f7a3ac1",
   "metadata": {},
   "source": [
    "### Comentários e ;"
   ]
  },
  {
   "cell_type": "code",
   "execution_count": null,
   "id": "0d3b0b58",
   "metadata": {},
   "outputs": [],
   "source": [
    "// Use ponto e virgula ao final de cada instrução;\n",
    "\n",
    "/* Este é um \n",
    "comentário multilinha */"
   ]
  },
  {
   "cell_type": "markdown",
   "id": "978ae556",
   "metadata": {},
   "source": [
    "### \"use strict\"; "
   ]
  },
  {
   "cell_type": "code",
   "execution_count": 9,
   "id": "b3defa5b",
   "metadata": {},
   "outputs": [],
   "source": [
    "/*O JavaScript moderno suporta “classes” e “módulos”, que habilitam \"use strict\" automaticamente. \n",
    "Então não precisamos adicionar a \"use strict\" diretiva, se as usarmos.\n",
    "\n",
    "Então, por enquanto \"use strict\" é um convidado bem-vindo no topo dos seus scripts. \n",
    "Mais tarde, quando seu código estiver todo em classes e módulos, você pode omiti-lo.*/"
   ]
  },
  {
   "cell_type": "markdown",
   "id": "25113d3c",
   "metadata": {},
   "source": [
    "### Tipos de valores: (melhorar este tópico, acrescentando mais sobre tipos primitivos e tipos de objetos)"
   ]
  },
  {
   "cell_type": "code",
   "execution_count": null,
   "id": "6ef7df9c",
   "metadata": {},
   "outputs": [],
   "source": [
    "// Number (apenas um tipo Number para inteiros e reais):\n",
    "x = 0.01;\n",
    "\n",
    "// Strings (entre aspas duplas ou simples):\n",
    "x = \"hello world\";\n",
    "\n",
    "// Valores booleanos:\n",
    "x = true;\n",
    "x = false;\n",
    "\n",
    "// Outros tipos primitivos:\n",
    "undefined, null, bigint e symbol"
   ]
  },
  {
   "cell_type": "markdown",
   "id": "cd2f85c9",
   "metadata": {},
   "source": [
    "#### Verificando tipos com typeof:"
   ]
  },
  {
   "cell_type": "code",
   "execution_count": 19,
   "id": "1e20aa55",
   "metadata": {},
   "outputs": [
    {
     "name": "stdout",
     "output_type": "stream",
     "text": [
      "number\n"
     ]
    }
   ],
   "source": [
    "console.log(typeof 9);"
   ]
  },
  {
   "cell_type": "code",
   "execution_count": 18,
   "id": "5a9eacdf",
   "metadata": {},
   "outputs": [
    {
     "name": "stdout",
     "output_type": "stream",
     "text": [
      "string\n"
     ]
    }
   ],
   "source": [
    "console.log(typeof \"Olá\"); "
   ]
  },
  {
   "cell_type": "code",
   "execution_count": 20,
   "id": "342ca5f8",
   "metadata": {},
   "outputs": [
    {
     "name": "stdout",
     "output_type": "stream",
     "text": [
      "boolean\n"
     ]
    }
   ],
   "source": [
    "console.log(typeof true);"
   ]
  },
  {
   "cell_type": "code",
   "execution_count": 1,
   "id": "e14683b9",
   "metadata": {},
   "outputs": [
    {
     "name": "stdout",
     "output_type": "stream",
     "text": [
      "10\n",
      "20\n",
      "testando e aprendendo\n"
     ]
    }
   ],
   "source": [
    "let x;\n",
    "\n",
    "x = 10;\n",
    "console.log(x);\n",
    "\n",
    "x = 20;\n",
    "console.log(x);\n",
    "\n",
    "x = \"testando e aprendendo\";\n",
    "console.log(x);\n",
    "\n",
    "// Nos 2 primeiros exemplos, houve mudança de valor; no terceiro exemplo, houve mudança de tipo."
   ]
  },
  {
   "cell_type": "markdown",
   "id": "0f70982e",
   "metadata": {},
   "source": [
    "#### Uma nota sobre o conceito de declaração e atribuição em JS:"
   ]
  },
  {
   "cell_type": "markdown",
   "id": "a46b85c3",
   "metadata": {},
   "source": [
    "<p>Declarar significa criar uma variável, informando ao interpretador JavaScript que ela existe. Em linguagens fortemente tipadas, a declaração exige a definição explícita do tipo da variável; mas em JavaScript, a declaração não exige a definição do tipo, pois a linguagem é fracamente tipada e dinamicamente tipada. O tipo da variável é inferido com base no valor atribuído, e ele pode mudar ao longo do código. A atribuição é a definição do valor da variável, e ela pode ocorrer junto com a declaração (inicialização) ou posteriormente.</p> "
   ]
  },
  {
   "cell_type": "markdown",
   "id": "36790ab2",
   "metadata": {},
   "source": [
    "### Templates Strings"
   ]
  },
  {
   "cell_type": "code",
   "execution_count": 10,
   "id": "6d5d1110",
   "metadata": {},
   "outputs": [
    {
     "name": "stdout",
     "output_type": "stream",
     "text": [
      "Jonh\n"
     ]
    }
   ],
   "source": [
    "// Mostrando nome de maneira comum:\n",
    "\n",
    "nome = \"Jonh\";\n",
    "console.log(nome);"
   ]
  },
  {
   "cell_type": "code",
   "execution_count": 12,
   "id": "f13fe6c2",
   "metadata": {},
   "outputs": [
    {
     "name": "stdout",
     "output_type": "stream",
     "text": [
      " O nome dele é Jonh!\n"
     ]
    }
   ],
   "source": [
    "// Mostrando nome com template string:\n",
    "\n",
    "console.log(` O nome dele é ${nome}!`);"
   ]
  },
  {
   "cell_type": "code",
   "execution_count": null,
   "id": "f078bad2",
   "metadata": {},
   "outputs": [],
   "source": []
  }
 ],
 "metadata": {
  "kernelspec": {
   "display_name": "JavaScript (Node.js)",
   "language": "javascript",
   "name": "javascript"
  },
  "language_info": {
   "file_extension": ".js",
   "mimetype": "application/javascript",
   "name": "javascript",
   "version": "12.22.9"
  }
 },
 "nbformat": 4,
 "nbformat_minor": 5
}
