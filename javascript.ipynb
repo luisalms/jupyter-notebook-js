{
 "cells": [
  {
   "cell_type": "markdown",
   "id": "ea8d50cc",
   "metadata": {},
   "source": [
    "   #  <font size='6'>JavaScript -- Fundamentos da Linguagem</font>"
   ]
  },
  {
   "cell_type": "code",
   "execution_count": null,
   "id": "f7901704",
   "metadata": {},
   "outputs": [],
   "source": [
    "// Para conectar arquivo JS ao HTML\n",
    "<script src=\"arquivo.js\"></script>"
   ]
  },
  {
   "cell_type": "markdown",
   "id": "629ddc1e",
   "metadata": {},
   "source": [
    "##  <font color=green>Algumas regras iniciais de sintaxe:</font>"
   ]
  },
  {
   "cell_type": "markdown",
   "id": "2f7a3ac1",
   "metadata": {},
   "source": [
    "### Comentários e ;"
   ]
  },
  {
   "cell_type": "code",
   "execution_count": null,
   "id": "0d3b0b58",
   "metadata": {},
   "outputs": [],
   "source": [
    "// Use ponto e virgula ao final de cada instrução;\n",
    "\n",
    "/* Este é um \n",
    "comentário multilinha */"
   ]
  },
  {
   "cell_type": "markdown",
   "id": "978ae556",
   "metadata": {},
   "source": [
    "### \"use strict\"; "
   ]
  },
  {
   "cell_type": "code",
   "execution_count": 9,
   "id": "b3defa5b",
   "metadata": {},
   "outputs": [],
   "source": [
    "/*O JavaScript moderno suporta “classes” e “módulos”, que habilitam \"use strict\" automaticamente. \n",
    "Então não precisamos adicionar a \"use strict\" diretiva, se as usarmos.\n",
    "\n",
    "Então, por enquanto \"use strict\" é um convidado bem-vindo no topo dos seus scripts. \n",
    "Mais tarde, quando seu código estiver todo em classes e módulos, você pode omiti-lo.*/"
   ]
  },
  {
   "cell_type": "markdown",
   "id": "25113d3c",
   "metadata": {},
   "source": [
    "### Tipos de valores: (melhorar este tópico, acrescentando mais sobre tipos primitivos e tipos de objetos)"
   ]
  },
  {
   "cell_type": "code",
   "execution_count": null,
   "id": "6ef7df9c",
   "metadata": {},
   "outputs": [],
   "source": [
    "// Number (apenas um tipo Number para inteiros e reais):\n",
    "x = 0.01;\n",
    "\n",
    "// Strings (entre aspas duplas ou simples):\n",
    "x = \"hello world\";\n",
    "\n",
    "// Valores booleanos:\n",
    "x = true;\n",
    "x = false;\n",
    "\n",
    "// Outros tipos primitivos:\n",
    "undefined, null, bigint e symbol"
   ]
  },
  {
   "cell_type": "markdown",
   "id": "cd2f85c9",
   "metadata": {},
   "source": [
    "#### Verificando tipos com typeof:"
   ]
  },
  {
   "cell_type": "code",
   "execution_count": 19,
   "id": "1e20aa55",
   "metadata": {},
   "outputs": [
    {
     "name": "stdout",
     "output_type": "stream",
     "text": [
      "number\n"
     ]
    }
   ],
   "source": [
    "console.log(typeof 9);"
   ]
  },
  {
   "cell_type": "code",
   "execution_count": 18,
   "id": "5a9eacdf",
   "metadata": {},
   "outputs": [
    {
     "name": "stdout",
     "output_type": "stream",
     "text": [
      "string\n"
     ]
    }
   ],
   "source": [
    "console.log(typeof \"Olá\"); "
   ]
  },
  {
   "cell_type": "code",
   "execution_count": 20,
   "id": "342ca5f8",
   "metadata": {},
   "outputs": [
    {
     "name": "stdout",
     "output_type": "stream",
     "text": [
      "boolean\n"
     ]
    }
   ],
   "source": [
    "console.log(typeof true);"
   ]
  },
  {
   "cell_type": "markdown",
   "id": "e0d22bcb",
   "metadata": {},
   "source": [
    "### Variáveis: var, let e const: \n"
   ]
  },
  {
   "cell_type": "markdown",
   "id": "ac23e7e6",
   "metadata": {},
   "source": [
    "<font color=green>**Var**</font> <br>\n",
    "<p>   \n",
    "    \n",
    " **Escopo:** tem escopo de função (ou escopo global, se declarada fora de uma função).\n",
    "\n",
    "**Hoisting:** Variáveis declaradas com var são \"içadas\" (hoisted) para o topo do escopo em que foram declaradas. \n",
    "Isso significa que a declaração é movida para o topo, mas a atribuição permanece no lugar. Isto é, conceitualmente, içar sugere que as declarações de variáveis e funções são fisicamente movidas para o topo do seu código, mas isso não é realmente o que acontece. Em vez disso, as declarações de variável e função são colocadas na memória durante a fase de compilação, mas permanecem exatamente onde você as digitou no seu código.\n",
    "\n",
    "**Reatribuição:** Pode ser redeclarada(mudar de tipo) e reatribuída(mudar de valor) no mesmo escopo.\n",
    "\n",
    "**Inicialização:** Se não for atribuído um valor, a variável é inicializada como undefined.</p>"
   ]
  },
  {
   "cell_type": "code",
   "execution_count": 24,
   "id": "e14683b9",
   "metadata": {},
   "outputs": [
    {
     "name": "stdout",
     "output_type": "stream",
     "text": [
      "10\n",
      "20\n",
      "testando e aprendendo\n"
     ]
    }
   ],
   "source": [
    "x = 10;\n",
    "console.log(x);\n",
    "\n",
    "x = 20;\n",
    "console.log(x);\n",
    "\n",
    "x = \"testando e aprendendo\";\n",
    "console.log(x);\n",
    "\n",
    "// Nos 2 primeiros exemplos, houve mudança de valor; no terceiro exemplo, houve mudança de tipo."
   ]
  },
  {
   "cell_type": "markdown",
   "id": "0f70982e",
   "metadata": {},
   "source": [
    "#### Uma nota sobre o conceito de declaração e atribuição em JS:"
   ]
  },
  {
   "cell_type": "markdown",
   "id": "a46b85c3",
   "metadata": {},
   "source": [
    "<p>Declarar significa **inicializar** uma variável. Em linguagens fortemente tipadas, isto acontece através da definição de seu tipo; mas em JavaScript, a declaração acontece juntamente com a atribuição, que por sua vez, é a definição de seu valor. Pois JS é fracamente tipada, ela atribui o tipo por ela mesma, sem precisar de uma definição explicita. Formalmente, diz-se que o tipo da variável é dinâmico, ou seja, ele é inferido com base no valor atribuído.</p> "
   ]
  },
  {
   "cell_type": "code",
   "execution_count": null,
   "id": "45c15bb9",
   "metadata": {},
   "outputs": [],
   "source": [
    "const, let e var \n",
    "\n",
    "// Diferenciam-se entre si em relação a => escopo, hoisting e reatribuição.\n",
    "\n",
    "var:\n",
    "// Escopo: var tem escopo de função (ou escopo global, se declarada fora de uma função).\n",
    "\n",
    "/*Hoisting: Variáveis declaradas com var são \"içadas\" (hoisted) para o topo do escopo em que foram declaradas. \n",
    "Isso significa que a declaração é movida para o topo, mas a atribuição permanece no lugar.\n",
    "\n",
    "Reatribuição: Pode ser reatribuída e redeclarada no mesmo escopo.\n",
    "\n",
    "Inicialização: Se não for atribuído um valor, a variável é inicializada como undefined.*/"
   ]
  },
  {
   "cell_type": "markdown",
   "id": "8b2e7c24",
   "metadata": {},
   "source": [
    " <font color=green>**Let**</font> <br>\n",
    " <p> </p>"
   ]
  },
  {
   "cell_type": "markdown",
   "id": "338d2cf9",
   "metadata": {},
   "source": [
    " <font color=green>**Const**</font> <br>"
   ]
  },
  {
   "cell_type": "code",
   "execution_count": null,
   "id": "7292b0c1",
   "metadata": {},
   "outputs": [],
   "source": []
  }
 ],
 "metadata": {
  "kernelspec": {
   "display_name": "JavaScript (Node.js)",
   "language": "javascript",
   "name": "javascript"
  },
  "language_info": {
   "file_extension": ".js",
   "mimetype": "application/javascript",
   "name": "javascript",
   "version": "12.22.9"
  }
 },
 "nbformat": 4,
 "nbformat_minor": 5
}
