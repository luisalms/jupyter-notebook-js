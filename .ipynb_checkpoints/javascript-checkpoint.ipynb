{
 "cells": [
  {
   "cell_type": "markdown",
   "id": "7402318c",
   "metadata": {},
   "source": [
    "   #  <font size='6'>JavaScript -- Fundamentos da Linguagem</font>"
   ]
  },
  {
   "cell_type": "code",
   "execution_count": null,
   "id": "39a719f5",
   "metadata": {},
   "outputs": [],
   "source": [
    "// Para conectar arquivo JS ao HTML\n",
    "<script src=\"arquivo.js\"></script>"
   ]
  },
  {
   "cell_type": "markdown",
   "id": "324f0a5d",
   "metadata": {},
   "source": [
    "##  <font color=green>Algumas regras iniciais de sintaxe:</font>"
   ]
  },
  {
   "cell_type": "markdown",
   "id": "10bd430f",
   "metadata": {},
   "source": [
    "### Comentários e ;"
   ]
  },
  {
   "cell_type": "code",
   "execution_count": null,
   "id": "8ffda53c",
   "metadata": {},
   "outputs": [],
   "source": [
    "// Use ponto e virgula ao final de cada instrução;\n",
    "\n",
    "/* Este é um \n",
    "comentário multilinha */"
   ]
  },
  {
   "cell_type": "markdown",
   "id": "e8fc6a34",
   "metadata": {},
   "source": [
    "### \"use strict\"; "
   ]
  },
  {
   "cell_type": "code",
   "execution_count": 9,
   "id": "61922022",
   "metadata": {},
   "outputs": [],
   "source": [
    "/*O JavaScript moderno suporta “classes” e “módulos”, que habilitam \"use strict\" automaticamente. \n",
    "Então não precisamos adicionar a \"use strict\" diretiva, se as usarmos.\n",
    "\n",
    "Então, por enquanto \"use strict\" é um convidado bem-vindo no topo dos seus scripts. \n",
    "Mais tarde, quando seu código estiver todo em classes e módulos, você pode omiti-lo.*/"
   ]
  },
  {
   "cell_type": "markdown",
   "id": "bda3f261",
   "metadata": {},
   "source": [
    "### Tipos de valores: "
   ]
  },
  {
   "cell_type": "code",
   "execution_count": null,
   "id": "7961cd51",
   "metadata": {},
   "outputs": [],
   "source": [
    "// Number (apenas um tipo Number para inteiros e reais):\n",
    "x = 0.01;\n",
    "\n",
    "// Strings (entre aspas duplas ou simples):\n",
    "x = \"hello world\";\n",
    "\n",
    "// Valores booleanos:\n",
    "x = true;\n",
    "x = false;"
   ]
  },
  {
   "cell_type": "code",
   "execution_count": null,
   "id": "257e43ee",
   "metadata": {},
   "outputs": [],
   "source": []
  }
 ],
 "metadata": {
  "kernelspec": {
   "display_name": "JavaScript (Node.js)",
   "language": "javascript",
   "name": "javascript"
  },
  "language_info": {
   "file_extension": ".js",
   "mimetype": "application/javascript",
   "name": "javascript",
   "version": "12.22.9"
  }
 },
 "nbformat": 4,
 "nbformat_minor": 5
}
