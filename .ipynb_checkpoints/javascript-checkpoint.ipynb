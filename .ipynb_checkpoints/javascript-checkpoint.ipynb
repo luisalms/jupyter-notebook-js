{
 "cells": [
  {
   "cell_type": "markdown",
   "id": "ea8d50cc",
   "metadata": {},
   "source": [
    "   #  <font size='6'>JavaScript -- Fundamentos da Linguagem</font>"
   ]
  },
  {
   "cell_type": "code",
   "execution_count": null,
   "id": "f7901704",
   "metadata": {},
   "outputs": [],
   "source": [
    "// Para conectar arquivo JS ao HTML\n",
    "<script src=\"arquivo.js\"></script>"
   ]
  },
  {
   "cell_type": "markdown",
   "id": "629ddc1e",
   "metadata": {},
   "source": [
    "##  <font color=green>Algumas regras iniciais de sintaxe:</font>"
   ]
  },
  {
   "cell_type": "markdown",
   "id": "2f7a3ac1",
   "metadata": {},
   "source": [
    "### Comentários e ;"
   ]
  },
  {
   "cell_type": "code",
   "execution_count": null,
   "id": "0d3b0b58",
   "metadata": {},
   "outputs": [],
   "source": [
    "// Use ponto e virgula ao final de cada instrução;\n",
    "\n",
    "/* Este é um \n",
    "comentário multilinha */"
   ]
  },
  {
   "cell_type": "markdown",
   "id": "978ae556",
   "metadata": {},
   "source": [
    "### \"use strict\"; "
   ]
  },
  {
   "cell_type": "code",
   "execution_count": 9,
   "id": "b3defa5b",
   "metadata": {},
   "outputs": [],
   "source": [
    "/*O JavaScript moderno suporta “classes” e “módulos”, que habilitam \"use strict\" automaticamente. \n",
    "Então não precisamos adicionar a \"use strict\" diretiva, se as usarmos.\n",
    "\n",
    "Então, por enquanto \"use strict\" é um convidado bem-vindo no topo dos seus scripts. \n",
    "Mais tarde, quando seu código estiver todo em classes e módulos, você pode omiti-lo.*/"
   ]
  },
  {
   "cell_type": "markdown",
   "id": "25113d3c",
   "metadata": {},
   "source": [
    "### Tipos de valores: (melhorar este tópico, acrescentando mais sobre tipos primitivos e tipos de objetos)"
   ]
  },
  {
   "cell_type": "code",
   "execution_count": null,
   "id": "6ef7df9c",
   "metadata": {},
   "outputs": [],
   "source": [
    "// Number (apenas um tipo Number para inteiros e reais):\n",
    "x = 0.01;\n",
    "\n",
    "// Strings (entre aspas duplas ou simples):\n",
    "x = \"hello world\";\n",
    "\n",
    "// Valores booleanos:\n",
    "x = true;\n",
    "x = false;\n",
    "\n",
    "// Outros tipos primitivos:\n",
    "undefined, null, bigint e symbol"
   ]
  },
  {
   "cell_type": "markdown",
   "id": "cd2f85c9",
   "metadata": {},
   "source": [
    "#### Verificando tipos com typeof:"
   ]
  },
  {
   "cell_type": "code",
   "execution_count": 19,
   "id": "1e20aa55",
   "metadata": {},
   "outputs": [
    {
     "name": "stdout",
     "output_type": "stream",
     "text": [
      "number\n"
     ]
    }
   ],
   "source": [
    "console.log(typeof 9);"
   ]
  },
  {
   "cell_type": "code",
   "execution_count": 18,
   "id": "5a9eacdf",
   "metadata": {},
   "outputs": [
    {
     "name": "stdout",
     "output_type": "stream",
     "text": [
      "string\n"
     ]
    }
   ],
   "source": [
    "console.log(typeof \"Olá\"); "
   ]
  },
  {
   "cell_type": "code",
   "execution_count": 20,
   "id": "342ca5f8",
   "metadata": {},
   "outputs": [
    {
     "name": "stdout",
     "output_type": "stream",
     "text": [
      "boolean\n"
     ]
    }
   ],
   "source": [
    "console.log(typeof true);"
   ]
  },
  {
   "cell_type": "code",
   "execution_count": 1,
   "id": "e14683b9",
   "metadata": {},
   "outputs": [
    {
     "name": "stdout",
     "output_type": "stream",
     "text": [
      "10\n",
      "20\n",
      "testando e aprendendo\n"
     ]
    }
   ],
   "source": [
    "let x;\n",
    "\n",
    "x = 10;\n",
    "console.log(x);\n",
    "\n",
    "x = 20;\n",
    "console.log(x);\n",
    "\n",
    "x = \"testando e aprendendo\";\n",
    "console.log(x);\n",
    "\n",
    "// Nos 2 primeiros exemplos, houve mudança de valor; no terceiro exemplo, houve mudança de tipo."
   ]
  },
  {
   "cell_type": "markdown",
   "id": "0f70982e",
   "metadata": {},
   "source": [
    "#### Uma nota sobre o conceito de declaração e atribuição em JS:"
   ]
  },
  {
   "cell_type": "markdown",
   "id": "a46b85c3",
   "metadata": {},
   "source": [
    "<p>Declarar significa criar uma variável, informando ao interpretador JavaScript que ela existe. Em linguagens fortemente tipadas, a declaração exige a definição explícita do tipo da variável; mas em JavaScript, a declaração não exige a definição do tipo, pois a linguagem é fracamente tipada e dinamicamente tipada. O tipo da variável é inferido com base no valor atribuído, e ele pode mudar ao longo do código. A atribuição é a definição do valor da variável, e ela pode ocorrer junto com a declaração (inicialização) ou posteriormente.</p> "
   ]
  },
  {
   "cell_type": "markdown",
   "id": "36790ab2",
   "metadata": {},
   "source": [
    "### Templates Strings"
   ]
  },
  {
   "cell_type": "code",
   "execution_count": 10,
   "id": "6d5d1110",
   "metadata": {},
   "outputs": [
    {
     "name": "stdout",
     "output_type": "stream",
     "text": [
      "Jonh\n"
     ]
    }
   ],
   "source": [
    "// Mostrando nome de maneira comum:\n",
    "\n",
    "nome = \"Jonh\";\n",
    "console.log(nome);"
   ]
  },
  {
   "cell_type": "code",
   "execution_count": 12,
   "id": "f13fe6c2",
   "metadata": {},
   "outputs": [
    {
     "name": "stdout",
     "output_type": "stream",
     "text": [
      " O nome dele é Jonh!\n"
     ]
    }
   ],
   "source": [
    "// Mostrando nome com template string:\n",
    "\n",
    "console.log(` O nome dele é ${nome}!`);"
   ]
  },
  {
   "cell_type": "markdown",
   "id": "f68ef47b",
   "metadata": {},
   "source": [
    "#### Existem 8 tipos básicos de dados em JavaScript:\n",
    "\n",
    "<p>Sete tipos de dados primitivos:\n",
    "    \n",
    "**number** para números de qualquer tipo: inteiros ou de ponto flutuante, os inteiros são limitados por .±(253-1)\n",
    "**bigint** para números inteiros de comprimento arbitrário.\n",
    "**string** para strings. Uma string pode ter zero ou mais caracteres, não há um tipo separado de caractere único.\n",
    "**boolean** para true/ false.\n",
    "**null** para valores desconhecidos – um tipo autônomo que tem um único valor null.\n",
    "**undefined** para valores não atribuídos – um tipo autônomo que tem um único valor undefined.\n",
    "**symbol** para identificadores exclusivos. \n",
    "    \n",
    "E um tipo de dado não primitivo:\n",
    "**object** para estruturas de dados mais complexas.\n",
    "    \n",
    "O **typeof** operador nos permite ver qual tipo está armazenado em uma variável.\n",
    "\n",
    "Geralmente usado como typeof x, mas typeof(x)também é possível.\n",
    "Retorna uma string com o nome do tipo, como \"string\".\n",
    "Para \"null\" retorna \"object\" – isso é um **erro** na linguagem, não é realmente um objeto.</p>"
   ]
  },
  {
   "cell_type": "code",
   "execution_count": 10,
   "id": "8c264967",
   "metadata": {},
   "outputs": [
    {
     "name": "stdout",
     "output_type": "stream",
     "text": [
      "object\n"
     ]
    }
   ],
   "source": [
    "//Exemplo do erro acima mencionado:\n",
    "\n",
    "console.log(typeof null); "
   ]
  },
  {
   "cell_type": "markdown",
   "id": "1fa258c6",
   "metadata": {},
   "source": [
    "### Três tipos simples de interação com o navegador: alert, prompt, confirm"
   ]
  },
  {
   "cell_type": "markdown",
   "id": "f91dc403",
   "metadata": {},
   "source": [
    "<p>**Alert**</p>"
   ]
  },
  {
   "cell_type": "code",
   "execution_count": null,
   "id": "4fbdac1a",
   "metadata": {},
   "outputs": [],
   "source": [
    "/*A mini-janela com a mensagem é chamada de janela modal . \n",
    "A palavra “modal” significa que o visitante não pode interagir com o resto da página, até que tenha lidado \n",
    "com a janela. Neste caso – até que ele pressione “OK”.*/\n",
    "\n",
    "alert(\"hello, world\");"
   ]
  },
  {
   "cell_type": "markdown",
   "id": "51eb9c3c",
   "metadata": {},
   "source": [
    "<p>Prompt</p>"
   ]
  },
  {
   "cell_type": "code",
   "execution_count": null,
   "id": "8b65a319",
   "metadata": {},
   "outputs": [],
   "source": [
    "//Exibe uma mini-janela input com 2 botões, \"cancel\" e \"ok\".\n",
    "prompt(\"hello, world\");\n",
    "\n",
    "//A função prompt aceita dois argumentos (sendo o segundo opcional):\n",
    "prompt(title, [default]); \n",
    "\n",
    "//E pode-se armazenar o valor do input em uma variável (com ou sem o segundo argumento):\n",
    "result = prompt(title, [default]);"
   ]
  },
  {
   "cell_type": "markdown",
   "id": "c280c582",
   "metadata": {},
   "source": [
    "##### Combinando-se as duas:\n",
    "<p>Ambas não são executadas aqui no Jupyter, pois referem-se ao comportamento no navegador, mas fica de registro e documentação.<br>\n",
    "Elas representam o input e o output do JS.</p>"
   ]
  },
  {
   "cell_type": "code",
   "execution_count": null,
   "id": "967cd402",
   "metadata": {},
   "outputs": [],
   "source": [
    "nome = prompt(\"Escreva seu nome: \" ); //input"
   ]
  },
  {
   "cell_type": "code",
   "execution_count": null,
   "id": "ffd342b4",
   "metadata": {},
   "outputs": [],
   "source": [
    "alert(`Seu nome é: ${nome}`); //output"
   ]
  },
  {
   "cell_type": "markdown",
   "id": "6fb251c8",
   "metadata": {},
   "source": [
    "<p>Confirm</p>"
   ]
  },
  {
   "cell_type": "code",
   "execution_count": null,
   "id": "0d431be4",
   "metadata": {},
   "outputs": [],
   "source": [
    "// E o terceiro tipo de interação é o confirm:\n",
    "confirm(\"hello, world\"); \n",
    "\n",
    "// Ou, com variável:\n",
    "\n",
    "resultado = confirm(\"hello, world\");\n",
    "\n",
    "/* Tal qual o prompt, este também exibe um botão \"cancel\" e \"ok\", \n",
    "com a diferença de não apresentar caixa de Input.*/"
   ]
  },
  {
   "cell_type": "markdown",
   "id": "e042432d",
   "metadata": {},
   "source": [
    "#### Observações:\n",
    "<p>Quando executado no console, no **prompt** temos o resultado de \"cancel\" como null e o de \"ok\" uma string.<br> Já no **confirm** o resultado de \"cancel\" é false e o de \"ok\" é true, ambos valores booleanos.<br><br>Todos esses métodos são modais: eles pausam a execução do script e não permitem que o visitante interaja com o restante da página até que a janela seja fechada.</p>"
   ]
  },
  {
   "cell_type": "markdown",
   "id": "4a1b3fa5",
   "metadata": {},
   "source": [
    "#### console.log()"
   ]
  },
  {
   "cell_type": "code",
   "execution_count": 16,
   "id": "29eebdd1",
   "metadata": {},
   "outputs": [
    {
     "name": "stdout",
     "output_type": "stream",
     "text": [
      "Outputs JS\n"
     ]
    }
   ],
   "source": [
    "// Aqui no jupyter notebook, tal qual no node e no próprio console, é possivel saidas via console.log(\"\");\n",
    "\n",
    "console.log(\"Outputs JS\");"
   ]
  },
  {
   "cell_type": "code",
   "execution_count": null,
   "id": "485ed8dd",
   "metadata": {},
   "outputs": [],
   "source": []
  }
 ],
 "metadata": {
  "kernelspec": {
   "display_name": "JavaScript (Node.js)",
   "language": "javascript",
   "name": "javascript"
  },
  "language_info": {
   "file_extension": ".js",
   "mimetype": "application/javascript",
   "name": "javascript",
   "version": "12.22.9"
  }
 },
 "nbformat": 4,
 "nbformat_minor": 5
}
